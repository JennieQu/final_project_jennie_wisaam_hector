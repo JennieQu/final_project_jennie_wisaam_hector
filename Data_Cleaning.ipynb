{
 "cells": [
  {
   "cell_type": "code",
   "execution_count": 2,
   "metadata": {
    "collapsed": false
   },
   "outputs": [],
   "source": [
    "import pandas as pd\n",
    "import re\n",
    "%matplotlib inline\n",
    "pd.options.display.max_rows = 10"
   ]
  },
  {
   "cell_type": "code",
   "execution_count": 31,
   "metadata": {
    "collapsed": false
   },
   "outputs": [],
   "source": [
    "#import race dataframe\n",
    "df_race = pd.read_csv('acs_14_race.csv')\n",
    "df_educ_b = pd.read_csv('acs_14_educational_attainment_black.csv)\n",
    "df_educ_w = pd.read_csv('acs_14_educational_attainment_white.csv')\n",
    "df_educ = pd.read_csv('acs_14_educational_attainment.csv')\n",
    "df_income = pd.read_csv('acs_14_income.csv')\n",
    "df_socio = pd.read_csv('Census_Data_-_Selected_socioeconomic_indicators_in_Chicago__2008___2012.csv')\n",
    "df_community_tract = pd.read_csv('community_tracts.csv')\n",
    "\n",
    "                        \n",
    "#Extract number before the decimal in the tract id & add the needed zeros\n",
    "def only_1st_number(i):\n",
    "    if (len(re.findall(r'.(\\d+)', i)[0])) == 4:\n",
    "        return re.findall(r'.(\\d+)', i)[0]\n",
    "    elif (len(re.findall(r'.(\\d+)', i)[0])) == 3:\n",
    "        return \"0\" + re.findall(r'.(\\d+)', i)[0]\n",
    "\n",
    "#Extract number after the decimal in the tract id & add the needed zeros\n",
    "def only_2nd_number(i):\n",
    "    if '.' in i:\n",
    "        return i.split('.')[1][0:2]\n",
    "    elif '.' not in i:\n",
    "        return \"00\"\n",
    "\n",
    "#Join both parts of the tract id & replace the Census Tract string with it\n",
    "def only_numbers(i):\n",
    "    return \"17031\" + only_1st_number(i) + only_2nd_number(i)    \n",
    "\n",
    "df_race['Census Tract'] = df_race['Census Tract'].apply(only_numbers)"
   ]
  },
  {
   "cell_type": "code",
   "execution_count": 26,
   "metadata": {
    "collapsed": false
   },
   "outputs": [],
   "source": [
    "community_tract['tract_id'] = df_community_tract['tract_id'].astype(str)"
   ]
  },
  {
   "cell_type": "code",
   "execution_count": null,
   "metadata": {
    "collapsed": false
   },
   "outputs": [],
   "source": [
    "race_ses = df_race.merge(df_community_tract, left_on='Census Tract', right_on='tract_id', how = 'outer')\n",
    "race_ses = race_ses.dropna()\n",
    "race_ses"
   ]
  }
 ],
 "metadata": {
  "kernelspec": {
   "display_name": "Python 3",
   "language": "python",
   "name": "python3"
  }
 },
 "nbformat": 4,
 "nbformat_minor": 0
}
