{
 "metadata": {
  "name": "",
  "signature": "sha256:404908d6180063d9308b473bd979879570a844af6ba378fcb354df2804cd2d9e"
 },
 "nbformat": 3,
 "nbformat_minor": 0,
 "worksheets": [
  {
   "cells": [
    {
     "cell_type": "heading",
     "level": 1,
     "metadata": {},
     "source": [
      "Pre-processing"
     ]
    },
    {
     "cell_type": "code",
     "collapsed": false,
     "input": [
      "import pandas as pd\n",
      "import re\n",
      "%matplotlib inline\n",
      "pd.options.display.max_rows = 10"
     ],
     "language": "python",
     "metadata": {},
     "outputs": [],
     "prompt_number": 1
    },
    {
     "cell_type": "heading",
     "level": 5,
     "metadata": {},
     "source": [
      "(1) Race Data: to prep for 'merge'"
     ]
    },
    {
     "cell_type": "code",
     "collapsed": false,
     "input": [
      "race_data = pd.read_csv('acs_14_race.csv')\n",
      "race_data.columns"
     ],
     "language": "python",
     "metadata": {},
     "outputs": [
      {
       "metadata": {},
       "output_type": "pyout",
       "prompt_number": 2,
       "text": [
        "Index(['Census Tract ', 'total', 'white', 'black'], dtype='object')"
       ]
      }
     ],
     "prompt_number": 2
    },
    {
     "cell_type": "code",
     "collapsed": false,
     "input": [
      "#Extract number before the decimal in the tract id & add the needed zeros\n",
      "def only_1st_number(i):\n",
      "    if (len(re.findall(r'.(\\d+)', i)[0])) == 4:\n",
      "        return re.findall(r'.(\\d+)', i)[0]\n",
      "    elif (len(re.findall(r'.(\\d+)', i)[0])) == 3:\n",
      "        return \"0\" + re.findall(r'.(\\d+)', i)[0]\n",
      "\n",
      "#Extract number after the decimal in the tract id & add the needed zeros\n",
      "def only_2nd_number(i):\n",
      "    if '.' in i:\n",
      "        return i.split('.')[1][0:2]\n",
      "    elif '.' not in i:\n",
      "        return \"00\"\n",
      "\n",
      "#Join both parts of the tract id & replace the Census Tract string with it\n",
      "def only_numbers(i):\n",
      "    return \"17031\" + only_1st_number(i) + only_2nd_number(i)    "
     ],
     "language": "python",
     "metadata": {},
     "outputs": [],
     "prompt_number": 3
    },
    {
     "cell_type": "code",
     "collapsed": false,
     "input": [
      "race_data['Census Tract'] = race_data['Census Tract '].apply(only_numbers)\n",
      "race_data\n",
      "#race_data['Census Tract'].str.len().unique() #make sure the cleaning works"
     ],
     "language": "python",
     "metadata": {},
     "outputs": [
      {
       "html": [
        "<div style=\"max-height:1000px;max-width:1500px;overflow:auto;\">\n",
        "<table border=\"1\" class=\"dataframe\">\n",
        "  <thead>\n",
        "    <tr style=\"text-align: right;\">\n",
        "      <th></th>\n",
        "      <th>Census Tract </th>\n",
        "      <th>total</th>\n",
        "      <th>white</th>\n",
        "      <th>black</th>\n",
        "      <th>Census Tract</th>\n",
        "    </tr>\n",
        "  </thead>\n",
        "  <tbody>\n",
        "    <tr>\n",
        "      <th>0   </th>\n",
        "      <td>    Census Tract 101, Cook County, Illinois</td>\n",
        "      <td> 4189</td>\n",
        "      <td> 2073</td>\n",
        "      <td> 1687</td>\n",
        "      <td> 17031010100</td>\n",
        "    </tr>\n",
        "    <tr>\n",
        "      <th>1   </th>\n",
        "      <td> Census Tract 102.01, Cook County, Illinois</td>\n",
        "      <td> 7083</td>\n",
        "      <td> 3198</td>\n",
        "      <td> 3545</td>\n",
        "      <td> 17031010201</td>\n",
        "    </tr>\n",
        "    <tr>\n",
        "      <th>2   </th>\n",
        "      <td> Census Tract 102.02, Cook County, Illinois</td>\n",
        "      <td> 2502</td>\n",
        "      <td> 1099</td>\n",
        "      <td>  839</td>\n",
        "      <td> 17031010202</td>\n",
        "    </tr>\n",
        "    <tr>\n",
        "      <th>3   </th>\n",
        "      <td>    Census Tract 103, Cook County, Illinois</td>\n",
        "      <td> 6213</td>\n",
        "      <td> 3429</td>\n",
        "      <td> 1806</td>\n",
        "      <td> 17031010300</td>\n",
        "    </tr>\n",
        "    <tr>\n",
        "      <th>4   </th>\n",
        "      <td>    Census Tract 104, Cook County, Illinois</td>\n",
        "      <td> 4730</td>\n",
        "      <td> 3427</td>\n",
        "      <td>  660</td>\n",
        "      <td> 17031010400</td>\n",
        "    </tr>\n",
        "    <tr>\n",
        "      <th>...</th>\n",
        "      <td>...</td>\n",
        "      <td>...</td>\n",
        "      <td>...</td>\n",
        "      <td>...</td>\n",
        "      <td>...</td>\n",
        "    </tr>\n",
        "    <tr>\n",
        "      <th>1314</th>\n",
        "      <td>   Census Tract 8438, Cook County, Illinois</td>\n",
        "      <td> 1856</td>\n",
        "      <td>  675</td>\n",
        "      <td>  921</td>\n",
        "      <td> 17031843800</td>\n",
        "    </tr>\n",
        "    <tr>\n",
        "      <th>1315</th>\n",
        "      <td>   Census Tract 8439, Cook County, Illinois</td>\n",
        "      <td> 3628</td>\n",
        "      <td>   90</td>\n",
        "      <td> 3329</td>\n",
        "      <td> 17031843900</td>\n",
        "    </tr>\n",
        "    <tr>\n",
        "      <th>1316</th>\n",
        "      <td>   Census Tract 9800, Cook County, Illinois</td>\n",
        "      <td>    0</td>\n",
        "      <td>    0</td>\n",
        "      <td>    0</td>\n",
        "      <td> 17031980000</td>\n",
        "    </tr>\n",
        "    <tr>\n",
        "      <th>1317</th>\n",
        "      <td>   Census Tract 9801, Cook County, Illinois</td>\n",
        "      <td>    0</td>\n",
        "      <td>    0</td>\n",
        "      <td>    0</td>\n",
        "      <td> 17031980100</td>\n",
        "    </tr>\n",
        "    <tr>\n",
        "      <th>1318</th>\n",
        "      <td>   Census Tract 9900, Cook County, Illinois</td>\n",
        "      <td>    0</td>\n",
        "      <td>    0</td>\n",
        "      <td>    0</td>\n",
        "      <td> 17031990000</td>\n",
        "    </tr>\n",
        "  </tbody>\n",
        "</table>\n",
        "<p>1319 rows \u00d7 5 columns</p>\n",
        "</div>"
       ],
       "metadata": {},
       "output_type": "pyout",
       "prompt_number": 9,
       "text": [
        "                                   Census Tract   total  white  black  \\\n",
        "0        Census Tract 101, Cook County, Illinois   4189   2073   1687   \n",
        "1     Census Tract 102.01, Cook County, Illinois   7083   3198   3545   \n",
        "2     Census Tract 102.02, Cook County, Illinois   2502   1099    839   \n",
        "3        Census Tract 103, Cook County, Illinois   6213   3429   1806   \n",
        "4        Census Tract 104, Cook County, Illinois   4730   3427    660   \n",
        "...                                          ...    ...    ...    ...   \n",
        "1314    Census Tract 8438, Cook County, Illinois   1856    675    921   \n",
        "1315    Census Tract 8439, Cook County, Illinois   3628     90   3329   \n",
        "1316    Census Tract 9800, Cook County, Illinois      0      0      0   \n",
        "1317    Census Tract 9801, Cook County, Illinois      0      0      0   \n",
        "1318    Census Tract 9900, Cook County, Illinois      0      0      0   \n",
        "\n",
        "     Census Tract  \n",
        "0     17031010100  \n",
        "1     17031010201  \n",
        "2     17031010202  \n",
        "3     17031010300  \n",
        "4     17031010400  \n",
        "...           ...  \n",
        "1314  17031843800  \n",
        "1315  17031843900  \n",
        "1316  17031980000  \n",
        "1317  17031980100  \n",
        "1318  17031990000  \n",
        "\n",
        "[1319 rows x 5 columns]"
       ]
      }
     ],
     "prompt_number": 9
    },
    {
     "cell_type": "heading",
     "level": 5,
     "metadata": {},
     "source": [
      "(2) Community Data: to prepare for 'merge'"
     ]
    },
    {
     "cell_type": "code",
     "collapsed": false,
     "input": [
      "community_tract = pd.read_csv('community_tracts.csv')\n",
      "community_tract['tract_id'] = community_tract['tract_id'].astype(str)\n",
      "community_tract.columns"
     ],
     "language": "python",
     "metadata": {},
     "outputs": [
      {
       "metadata": {},
       "output_type": "pyout",
       "prompt_number": 11,
       "text": [
        "Index(['tract_id', ' community_id'], dtype='object')"
       ]
      }
     ],
     "prompt_number": 11
    },
    {
     "cell_type": "heading",
     "level": 5,
     "metadata": {},
     "source": [
      "(3) Race_Community Data: to merge race data and community data by census tract"
     ]
    },
    {
     "cell_type": "code",
     "collapsed": false,
     "input": [
      "race_comm = race_data.merge(community_tract, left_on='Census Tract', right_on='tract_id', how = 'outer')\n",
      "race_comm = race_comm.dropna()\n",
      "race_comm"
     ],
     "language": "python",
     "metadata": {},
     "outputs": [
      {
       "html": [
        "<div style=\"max-height:1000px;max-width:1500px;overflow:auto;\">\n",
        "<table border=\"1\" class=\"dataframe\">\n",
        "  <thead>\n",
        "    <tr style=\"text-align: right;\">\n",
        "      <th></th>\n",
        "      <th>Census Tract </th>\n",
        "      <th>total</th>\n",
        "      <th>white</th>\n",
        "      <th>black</th>\n",
        "      <th>Census Tract</th>\n",
        "      <th>tract_id</th>\n",
        "      <th> community_id</th>\n",
        "    </tr>\n",
        "  </thead>\n",
        "  <tbody>\n",
        "    <tr>\n",
        "      <th>0   </th>\n",
        "      <td>    Census Tract 101, Cook County, Illinois</td>\n",
        "      <td> 4189</td>\n",
        "      <td> 2073</td>\n",
        "      <td> 1687</td>\n",
        "      <td> 17031010100</td>\n",
        "      <td> 17031010100</td>\n",
        "      <td>  1</td>\n",
        "    </tr>\n",
        "    <tr>\n",
        "      <th>1   </th>\n",
        "      <td> Census Tract 102.01, Cook County, Illinois</td>\n",
        "      <td> 7083</td>\n",
        "      <td> 3198</td>\n",
        "      <td> 3545</td>\n",
        "      <td> 17031010201</td>\n",
        "      <td> 17031010201</td>\n",
        "      <td>  1</td>\n",
        "    </tr>\n",
        "    <tr>\n",
        "      <th>2   </th>\n",
        "      <td> Census Tract 102.02, Cook County, Illinois</td>\n",
        "      <td> 2502</td>\n",
        "      <td> 1099</td>\n",
        "      <td>  839</td>\n",
        "      <td> 17031010202</td>\n",
        "      <td> 17031010202</td>\n",
        "      <td>  1</td>\n",
        "    </tr>\n",
        "    <tr>\n",
        "      <th>3   </th>\n",
        "      <td>    Census Tract 103, Cook County, Illinois</td>\n",
        "      <td> 6213</td>\n",
        "      <td> 3429</td>\n",
        "      <td> 1806</td>\n",
        "      <td> 17031010300</td>\n",
        "      <td> 17031010300</td>\n",
        "      <td>  1</td>\n",
        "    </tr>\n",
        "    <tr>\n",
        "      <th>4   </th>\n",
        "      <td>    Census Tract 104, Cook County, Illinois</td>\n",
        "      <td> 4730</td>\n",
        "      <td> 3427</td>\n",
        "      <td>  660</td>\n",
        "      <td> 17031010400</td>\n",
        "      <td> 17031010400</td>\n",
        "      <td>  1</td>\n",
        "    </tr>\n",
        "    <tr>\n",
        "      <th>...</th>\n",
        "      <td>...</td>\n",
        "      <td>...</td>\n",
        "      <td>...</td>\n",
        "      <td>...</td>\n",
        "      <td>...</td>\n",
        "      <td>...</td>\n",
        "      <td>...</td>\n",
        "    </tr>\n",
        "    <tr>\n",
        "      <th>1313</th>\n",
        "      <td>   Census Tract 8437, Cook County, Illinois</td>\n",
        "      <td> 2279</td>\n",
        "      <td> 2054</td>\n",
        "      <td>   21</td>\n",
        "      <td> 17031843700</td>\n",
        "      <td> 17031843700</td>\n",
        "      <td>  5</td>\n",
        "    </tr>\n",
        "    <tr>\n",
        "      <th>1314</th>\n",
        "      <td>   Census Tract 8438, Cook County, Illinois</td>\n",
        "      <td> 1856</td>\n",
        "      <td>  675</td>\n",
        "      <td>  921</td>\n",
        "      <td> 17031843800</td>\n",
        "      <td> 17031843800</td>\n",
        "      <td> 61</td>\n",
        "    </tr>\n",
        "    <tr>\n",
        "      <th>1315</th>\n",
        "      <td>   Census Tract 8439, Cook County, Illinois</td>\n",
        "      <td> 3628</td>\n",
        "      <td>   90</td>\n",
        "      <td> 3329</td>\n",
        "      <td> 17031843900</td>\n",
        "      <td> 17031843900</td>\n",
        "      <td> 42</td>\n",
        "    </tr>\n",
        "    <tr>\n",
        "      <th>1316</th>\n",
        "      <td>   Census Tract 9800, Cook County, Illinois</td>\n",
        "      <td>    0</td>\n",
        "      <td>    0</td>\n",
        "      <td>    0</td>\n",
        "      <td> 17031980000</td>\n",
        "      <td> 17031980000</td>\n",
        "      <td> 76</td>\n",
        "    </tr>\n",
        "    <tr>\n",
        "      <th>1317</th>\n",
        "      <td>   Census Tract 9801, Cook County, Illinois</td>\n",
        "      <td>    0</td>\n",
        "      <td>    0</td>\n",
        "      <td>    0</td>\n",
        "      <td> 17031980100</td>\n",
        "      <td> 17031980100</td>\n",
        "      <td> 56</td>\n",
        "    </tr>\n",
        "  </tbody>\n",
        "</table>\n",
        "<p>801 rows \u00d7 7 columns</p>\n",
        "</div>"
       ],
       "metadata": {},
       "output_type": "pyout",
       "prompt_number": 16,
       "text": [
        "                                   Census Tract   total  white  black  \\\n",
        "0        Census Tract 101, Cook County, Illinois   4189   2073   1687   \n",
        "1     Census Tract 102.01, Cook County, Illinois   7083   3198   3545   \n",
        "2     Census Tract 102.02, Cook County, Illinois   2502   1099    839   \n",
        "3        Census Tract 103, Cook County, Illinois   6213   3429   1806   \n",
        "4        Census Tract 104, Cook County, Illinois   4730   3427    660   \n",
        "...                                          ...    ...    ...    ...   \n",
        "1313    Census Tract 8437, Cook County, Illinois   2279   2054     21   \n",
        "1314    Census Tract 8438, Cook County, Illinois   1856    675    921   \n",
        "1315    Census Tract 8439, Cook County, Illinois   3628     90   3329   \n",
        "1316    Census Tract 9800, Cook County, Illinois      0      0      0   \n",
        "1317    Census Tract 9801, Cook County, Illinois      0      0      0   \n",
        "\n",
        "     Census Tract     tract_id   community_id  \n",
        "0     17031010100  17031010100              1  \n",
        "1     17031010201  17031010201              1  \n",
        "2     17031010202  17031010202              1  \n",
        "3     17031010300  17031010300              1  \n",
        "4     17031010400  17031010400              1  \n",
        "...           ...          ...            ...  \n",
        "1313  17031843700  17031843700              5  \n",
        "1314  17031843800  17031843800             61  \n",
        "1315  17031843900  17031843900             42  \n",
        "1316  17031980000  17031980000             76  \n",
        "1317  17031980100  17031980100             56  \n",
        "\n",
        "[801 rows x 7 columns]"
       ]
      }
     ],
     "prompt_number": 16
    },
    {
     "cell_type": "code",
     "collapsed": false,
     "input": [
      "pop_sum = pd.DataFrame({'Total':\n",
      "                        race_comm.groupby(' community_id')['total'].sum()})\n",
      "pop_sum['w'] = pd.DataFrame({'W':\n",
      "                        race_comm.groupby(' community_id')['white'].sum()})\n",
      "pop_sum['b'] = pd.DataFrame({'B':\n",
      "                        race_comm.groupby(' community_id')['black'].sum()})\n",
      "pop_sum['white_prop'] = pop_sum['w']/pop_sum['Total'] #proportion of White\n",
      "pop_sum['black_prop'] = pop_sum['b']/pop_sum['Total'] #proportion of Black\n",
      "pop_sum"
     ],
     "language": "python",
     "metadata": {},
     "outputs": [
      {
       "html": [
        "<div style=\"max-height:1000px;max-width:1500px;overflow:auto;\">\n",
        "<table border=\"1\" class=\"dataframe\">\n",
        "  <thead>\n",
        "    <tr style=\"text-align: right;\">\n",
        "      <th></th>\n",
        "      <th>Total</th>\n",
        "      <th>w</th>\n",
        "      <th>b</th>\n",
        "      <th>white_prop</th>\n",
        "      <th>black_prop</th>\n",
        "    </tr>\n",
        "    <tr>\n",
        "      <th> community_id</th>\n",
        "      <th></th>\n",
        "      <th></th>\n",
        "      <th></th>\n",
        "      <th></th>\n",
        "      <th></th>\n",
        "    </tr>\n",
        "  </thead>\n",
        "  <tbody>\n",
        "    <tr>\n",
        "      <th>1 </th>\n",
        "      <td> 55053</td>\n",
        "      <td> 31806</td>\n",
        "      <td> 14872</td>\n",
        "      <td> 0.577734</td>\n",
        "      <td> 0.270140</td>\n",
        "    </tr>\n",
        "    <tr>\n",
        "      <th>2 </th>\n",
        "      <td> 73019</td>\n",
        "      <td> 41571</td>\n",
        "      <td>  8045</td>\n",
        "      <td> 0.569318</td>\n",
        "      <td> 0.110177</td>\n",
        "    </tr>\n",
        "    <tr>\n",
        "      <th>3 </th>\n",
        "      <td> 54062</td>\n",
        "      <td> 33665</td>\n",
        "      <td> 11126</td>\n",
        "      <td> 0.622711</td>\n",
        "      <td> 0.205801</td>\n",
        "    </tr>\n",
        "    <tr>\n",
        "      <th>4 </th>\n",
        "      <td> 39547</td>\n",
        "      <td> 30116</td>\n",
        "      <td>  1634</td>\n",
        "      <td> 0.761524</td>\n",
        "      <td> 0.041318</td>\n",
        "    </tr>\n",
        "    <tr>\n",
        "      <th>5 </th>\n",
        "      <td> 34815</td>\n",
        "      <td> 31123</td>\n",
        "      <td>   661</td>\n",
        "      <td> 0.893954</td>\n",
        "      <td> 0.018986</td>\n",
        "    </tr>\n",
        "    <tr>\n",
        "      <th>...</th>\n",
        "      <td>...</td>\n",
        "      <td>...</td>\n",
        "      <td>...</td>\n",
        "      <td>...</td>\n",
        "      <td>...</td>\n",
        "    </tr>\n",
        "    <tr>\n",
        "      <th>73</th>\n",
        "      <td> 26435</td>\n",
        "      <td>   341</td>\n",
        "      <td> 25465</td>\n",
        "      <td> 0.012900</td>\n",
        "      <td> 0.963306</td>\n",
        "    </tr>\n",
        "    <tr>\n",
        "      <th>74</th>\n",
        "      <td> 18357</td>\n",
        "      <td> 16695</td>\n",
        "      <td>   826</td>\n",
        "      <td> 0.909462</td>\n",
        "      <td> 0.044996</td>\n",
        "    </tr>\n",
        "    <tr>\n",
        "      <th>75</th>\n",
        "      <td> 29300</td>\n",
        "      <td> 11710</td>\n",
        "      <td> 15959</td>\n",
        "      <td> 0.399659</td>\n",
        "      <td> 0.544676</td>\n",
        "    </tr>\n",
        "    <tr>\n",
        "      <th>76</th>\n",
        "      <td> 22239</td>\n",
        "      <td> 17663</td>\n",
        "      <td>   247</td>\n",
        "      <td> 0.794235</td>\n",
        "      <td> 0.011107</td>\n",
        "    </tr>\n",
        "    <tr>\n",
        "      <th>77</th>\n",
        "      <td> 55276</td>\n",
        "      <td> 36629</td>\n",
        "      <td>  7815</td>\n",
        "      <td> 0.662656</td>\n",
        "      <td> 0.141381</td>\n",
        "    </tr>\n",
        "  </tbody>\n",
        "</table>\n",
        "<p>77 rows \u00d7 5 columns</p>\n",
        "</div>"
       ],
       "metadata": {},
       "output_type": "pyout",
       "prompt_number": 17,
       "text": [
        "               Total      w      b  white_prop  black_prop\n",
        " community_id                                             \n",
        "1              55053  31806  14872    0.577734    0.270140\n",
        "2              73019  41571   8045    0.569318    0.110177\n",
        "3              54062  33665  11126    0.622711    0.205801\n",
        "4              39547  30116   1634    0.761524    0.041318\n",
        "5              34815  31123    661    0.893954    0.018986\n",
        "...              ...    ...    ...         ...         ...\n",
        "73             26435    341  25465    0.012900    0.963306\n",
        "74             18357  16695    826    0.909462    0.044996\n",
        "75             29300  11710  15959    0.399659    0.544676\n",
        "76             22239  17663    247    0.794235    0.011107\n",
        "77             55276  36629   7815    0.662656    0.141381\n",
        "\n",
        "[77 rows x 5 columns]"
       ]
      }
     ],
     "prompt_number": 17
    },
    {
     "cell_type": "heading",
     "level": 5,
     "metadata": {},
     "source": [
      "(4) SES Data: to prepare for 'merge'"
     ]
    },
    {
     "cell_type": "code",
     "collapsed": false,
     "input": [
      "ses = pd.read_csv('Census_Data_-_Selected_socioeconomic_indicators_in_Chicago__2008___2012.csv')\n",
      "ses.columns"
     ],
     "language": "python",
     "metadata": {},
     "outputs": [
      {
       "metadata": {},
       "output_type": "pyout",
       "prompt_number": 18,
       "text": [
        "Index(['Community Area Number', 'COMMUNITY AREA NAME', 'PERCENT OF HOUSING CROWDED', 'PERCENT HOUSEHOLDS BELOW POVERTY', 'PERCENT AGED 16+ UNEMPLOYED', 'PERCENT AGED 25+ WITHOUT HIGH SCHOOL DIPLOMA', 'PERCENT AGED UNDER 18 OR OVER 64', 'PER CAPITA INCOME ', 'HARDSHIP INDEX'], dtype='object')"
       ]
      }
     ],
     "prompt_number": 18
    },
    {
     "cell_type": "heading",
     "level": 5,
     "metadata": {},
     "source": [
      "(5) SES_Race Data: to determine disadvantaged predominantly White/ predominently Black/ Mixed-race Census Tract"
     ]
    },
    {
     "cell_type": "code",
     "collapsed": false,
     "input": [
      "ses.loc[-1] = [0, 0, 0, 0, 0, 0, 0, 0, 0] #add an empty row on top to match the race_ses dataframe\n",
      "ses.index = ses.index + 1\n",
      "\n",
      "race_ses = pop_sum\n",
      "race_ses['ses'] = ses['HARDSHIP INDEX']\n",
      "race_ses"
     ],
     "language": "python",
     "metadata": {},
     "outputs": [
      {
       "html": [
        "<div style=\"max-height:1000px;max-width:1500px;overflow:auto;\">\n",
        "<table border=\"1\" class=\"dataframe\">\n",
        "  <thead>\n",
        "    <tr style=\"text-align: right;\">\n",
        "      <th></th>\n",
        "      <th>Total</th>\n",
        "      <th>w</th>\n",
        "      <th>b</th>\n",
        "      <th>white_prop</th>\n",
        "      <th>black_prop</th>\n",
        "      <th>ses</th>\n",
        "    </tr>\n",
        "    <tr>\n",
        "      <th> community_id</th>\n",
        "      <th></th>\n",
        "      <th></th>\n",
        "      <th></th>\n",
        "      <th></th>\n",
        "      <th></th>\n",
        "      <th></th>\n",
        "    </tr>\n",
        "  </thead>\n",
        "  <tbody>\n",
        "    <tr>\n",
        "      <th>1 </th>\n",
        "      <td> 55053</td>\n",
        "      <td> 31806</td>\n",
        "      <td> 14872</td>\n",
        "      <td> 0.577734</td>\n",
        "      <td> 0.270140</td>\n",
        "      <td> 39</td>\n",
        "    </tr>\n",
        "    <tr>\n",
        "      <th>2 </th>\n",
        "      <td> 73019</td>\n",
        "      <td> 41571</td>\n",
        "      <td>  8045</td>\n",
        "      <td> 0.569318</td>\n",
        "      <td> 0.110177</td>\n",
        "      <td> 46</td>\n",
        "    </tr>\n",
        "    <tr>\n",
        "      <th>3 </th>\n",
        "      <td> 54062</td>\n",
        "      <td> 33665</td>\n",
        "      <td> 11126</td>\n",
        "      <td> 0.622711</td>\n",
        "      <td> 0.205801</td>\n",
        "      <td> 20</td>\n",
        "    </tr>\n",
        "    <tr>\n",
        "      <th>4 </th>\n",
        "      <td> 39547</td>\n",
        "      <td> 30116</td>\n",
        "      <td>  1634</td>\n",
        "      <td> 0.761524</td>\n",
        "      <td> 0.041318</td>\n",
        "      <td> 17</td>\n",
        "    </tr>\n",
        "    <tr>\n",
        "      <th>5 </th>\n",
        "      <td> 34815</td>\n",
        "      <td> 31123</td>\n",
        "      <td>   661</td>\n",
        "      <td> 0.893954</td>\n",
        "      <td> 0.018986</td>\n",
        "      <td>  6</td>\n",
        "    </tr>\n",
        "    <tr>\n",
        "      <th>...</th>\n",
        "      <td>...</td>\n",
        "      <td>...</td>\n",
        "      <td>...</td>\n",
        "      <td>...</td>\n",
        "      <td>...</td>\n",
        "      <td>...</td>\n",
        "    </tr>\n",
        "    <tr>\n",
        "      <th>73</th>\n",
        "      <td> 26435</td>\n",
        "      <td>   341</td>\n",
        "      <td> 25465</td>\n",
        "      <td> 0.012900</td>\n",
        "      <td> 0.963306</td>\n",
        "      <td> 48</td>\n",
        "    </tr>\n",
        "    <tr>\n",
        "      <th>74</th>\n",
        "      <td> 18357</td>\n",
        "      <td> 16695</td>\n",
        "      <td>   826</td>\n",
        "      <td> 0.909462</td>\n",
        "      <td> 0.044996</td>\n",
        "      <td> 16</td>\n",
        "    </tr>\n",
        "    <tr>\n",
        "      <th>75</th>\n",
        "      <td> 29300</td>\n",
        "      <td> 11710</td>\n",
        "      <td> 15959</td>\n",
        "      <td> 0.399659</td>\n",
        "      <td> 0.544676</td>\n",
        "      <td> 30</td>\n",
        "    </tr>\n",
        "    <tr>\n",
        "      <th>76</th>\n",
        "      <td> 22239</td>\n",
        "      <td> 17663</td>\n",
        "      <td>   247</td>\n",
        "      <td> 0.794235</td>\n",
        "      <td> 0.011107</td>\n",
        "      <td> 24</td>\n",
        "    </tr>\n",
        "    <tr>\n",
        "      <th>77</th>\n",
        "      <td> 55276</td>\n",
        "      <td> 36629</td>\n",
        "      <td>  7815</td>\n",
        "      <td> 0.662656</td>\n",
        "      <td> 0.141381</td>\n",
        "      <td> 19</td>\n",
        "    </tr>\n",
        "  </tbody>\n",
        "</table>\n",
        "<p>77 rows \u00d7 6 columns</p>\n",
        "</div>"
       ],
       "metadata": {},
       "output_type": "pyout",
       "prompt_number": 19,
       "text": [
        "               Total      w      b  white_prop  black_prop  ses\n",
        " community_id                                                  \n",
        "1              55053  31806  14872    0.577734    0.270140   39\n",
        "2              73019  41571   8045    0.569318    0.110177   46\n",
        "3              54062  33665  11126    0.622711    0.205801   20\n",
        "4              39547  30116   1634    0.761524    0.041318   17\n",
        "5              34815  31123    661    0.893954    0.018986    6\n",
        "...              ...    ...    ...         ...         ...  ...\n",
        "73             26435    341  25465    0.012900    0.963306   48\n",
        "74             18357  16695    826    0.909462    0.044996   16\n",
        "75             29300  11710  15959    0.399659    0.544676   30\n",
        "76             22239  17663    247    0.794235    0.011107   24\n",
        "77             55276  36629   7815    0.662656    0.141381   19\n",
        "\n",
        "[77 rows x 6 columns]"
       ]
      }
     ],
     "prompt_number": 19
    },
    {
     "cell_type": "code",
     "collapsed": false,
     "input": [
      "race_ses_pre = race_ses.sort(['ses'], ascending=False).reset_index() #sort first, then reset index\n",
      "race_ses_pre['ses'] = race_ses_pre['ses'].astype(int)\n",
      "race_ses_pre.columns #ses=hardship index, higher=more disadvantaged, >20low, >40&<=65high, >65extreme"
     ],
     "language": "python",
     "metadata": {},
     "outputs": [
      {
       "metadata": {},
       "output_type": "pyout",
       "prompt_number": 60,
       "text": [
        "Index([' community_id', 'Total', 'w', 'b', 'white_prop', 'black_prop', 'ses'], dtype='object')"
       ]
      }
     ],
     "prompt_number": 60
    },
    {
     "cell_type": "code",
     "collapsed": false,
     "input": [
      "extreme_race_ses = race_ses_pre[race_ses_pre['ses']>65].reset_index()\n",
      "extreme_race_ses #dataframe with only extremely disadvantaged communities\n",
      "\n",
      "extreme_race_ses_black_count = len(extreme_race_ses[extreme_race_ses['black_prop']>0.70].reset_index().axes[0])\n",
      "extreme_race_ses_white_count = len(extreme_race_ses[extreme_race_ses['white_prop']>0.70].reset_index().axes[0])\n",
      "extreme_race_ses_mixed_count = len(extreme_race_ses[(extreme_race_ses['black_prop']<0.70)&(extreme_race_ses['white_prop']<0.70)].reset_index().axes[0])\n",
      "\n",
      "print('black extremely disadvantaged communities:', extreme_race_ses_black_count)\n",
      "print('white extremely disadvantaged communities:', extreme_race_ses_white_count)\n",
      "print('mixed extremely disadvantaged communities:', extreme_race_ses_mixed_count)"
     ],
     "language": "python",
     "metadata": {},
     "outputs": [
      {
       "output_type": "stream",
       "stream": "stdout",
       "text": [
        "black extremely disadvantaged communities: 14\n",
        "white extremely disadvantaged communities: 0\n",
        "mixed extremely disadvantaged communities: 12\n"
       ]
      }
     ],
     "prompt_number": 49
    },
    {
     "cell_type": "code",
     "collapsed": false,
     "input": [
      "high_race_ses = race_ses_pre[(race_ses_pre['ses']>40) & (race_ses_pre['ses']<=65)].reset_index()\n",
      "high_race_ses #dataframe with only high-disadvantaged communities\n",
      "\n",
      "high_race_ses_black_count = len(high_race_ses[high_race_ses['black_prop']>0.70].reset_index().axes[0])\n",
      "high_race_ses_white_count = len(high_race_ses[high_race_ses['white_prop']>0.70].reset_index().axes[0])\n",
      "high_race_ses_mixed_count = len(high_race_ses[(high_race_ses['black_prop']<0.70)&(high_race_ses['white_prop']<0.70)].reset_index().axes[0])\n",
      "\n",
      "print('black highly disadvantaged communities:', high_race_ses_black_count)\n",
      "print('white highly disadvantaged communities:', high_race_ses_white_count)\n",
      "print('mixed highly disadvantaged communities:', high_race_ses_mixed_count)"
     ],
     "language": "python",
     "metadata": {},
     "outputs": [
      {
       "output_type": "stream",
       "stream": "stdout",
       "text": [
        "black highly disadvantaged communities: 10\n",
        "white highly disadvantaged communities: 3\n",
        "mixed highly disadvantaged communities: 7\n"
       ]
      }
     ],
     "prompt_number": 52
    },
    {
     "cell_type": "code",
     "collapsed": false,
     "input": [
      "low_race_ses = race_ses_pre[(race_ses_pre['ses']>20) & (race_ses_pre['ses']<=40)].reset_index()\n",
      "low_race_ses #dataframe with only low-disadvantaged communities\n",
      "\n",
      "low_race_ses_black_count = len(low_race_ses[low_race_ses['black_prop']>0.70].reset_index().axes[0])\n",
      "low_race_ses_white_count = len(low_race_ses[low_race_ses['white_prop']>0.70].reset_index().axes[0])\n",
      "low_race_ses_mixed_count = len(low_race_ses[(low_race_ses['black_prop']<0.70)&(low_race_ses['white_prop']<0.70)].reset_index().axes[0])\n",
      "\n",
      "print('black low-disadvantaged communities:', low_race_ses_black_count)\n",
      "print('white low-disadvantaged communities:', low_race_ses_white_count)\n",
      "print('mixed low-disadvantaged communities:', low_race_ses_mixed_count)"
     ],
     "language": "python",
     "metadata": {},
     "outputs": [
      {
       "output_type": "stream",
       "stream": "stdout",
       "text": [
        "black low-disadvantaged communities: 1\n",
        "white low-disadvantaged communities: 8\n",
        "mixed low-disadvantaged communities: 6\n"
       ]
      }
     ],
     "prompt_number": 51
    },
    {
     "cell_type": "code",
     "collapsed": false,
     "input": [
      "mid_race_ses = race_ses_pre[(race_ses_pre['ses']>20) & (race_ses_pre['ses']<=65)].reset_index()\n",
      "mid_race_ses #dataframe with low- & high-disadvantaged communities\n",
      "\n",
      "mid_race_ses_black_count = len(mid_race_ses[mid_race_ses['black_prop']>0.70].reset_index().axes[0])\n",
      "mid_race_ses_white_count = len(mid_race_ses[mid_race_ses['white_prop']>0.70].reset_index().axes[0])\n",
      "mid_race_ses_mixed_count = len(mid_race_ses[(mid_race_ses['black_prop']<0.70)&(mid_race_ses['white_prop']<0.70)].reset_index().axes[0])\n",
      "\n",
      "print('black low-&high-disadvantaged communities:', mid_race_ses_black_count)\n",
      "print('white low-&high-disadvantaged communities:', mid_race_ses_white_count)\n",
      "print('mixed low-&high-disadvantaged communities:', mid_race_ses_mixed_count)"
     ],
     "language": "python",
     "metadata": {},
     "outputs": [
      {
       "output_type": "stream",
       "stream": "stdout",
       "text": [
        "black low-&high-disadvantaged communities: 11\n",
        "white low-&high-disadvantaged communities: 11\n",
        "mixed low-&high-disadvantaged communities: 13\n"
       ]
      }
     ],
     "prompt_number": 53
    },
    {
     "cell_type": "code",
     "collapsed": false,
     "input": [
      "print('''Pre Analysis Results:\n",
      "extremely disadvantaged communities: black (14) versus mixed (12)\n",
      "low-&high- disadvantaged communities[AKA mid-range]: black (11) versus white (11)''')"
     ],
     "language": "python",
     "metadata": {},
     "outputs": [
      {
       "output_type": "stream",
       "stream": "stdout",
       "text": [
        "Pre Analysis Results:\n",
        "extremely disadvantaged communities: black (14) versus mixed (12)\n",
        "low-&high- disadvantaged communities[AKA mid-range]: black (11) versus white (11)\n"
       ]
      }
     ],
     "prompt_number": 57
    },
    {
     "cell_type": "heading",
     "level": 5,
     "metadata": {},
     "source": [
      "(6) Economics Data: to prepare for 'merge'"
     ]
    },
    {
     "cell_type": "code",
     "collapsed": false,
     "input": [
      "econ_income_data = pd.read_csv('acs_14_income.csv')\n",
      "econ_income_data['Census Tract'] = econ_income_data['census_tract'].apply(only_numbers)\n",
      "#econ_income_data\n",
      "econ_income_data.columns"
     ],
     "language": "python",
     "metadata": {},
     "outputs": [
      {
       "metadata": {},
       "output_type": "pyout",
       "prompt_number": 64,
       "text": [
        "Index(['census_tract', 'Median_household_income', 'Mean_household_income', 'Median_family_income', 'Mean_family_income', 'Per_capita_income', 'Census Tract'], dtype='object')"
       ]
      }
     ],
     "prompt_number": 64
    },
    {
     "cell_type": "heading",
     "level": 5,
     "metadata": {},
     "source": [
      "(7) Education Data: to prepare for 'merge'"
     ]
    },
    {
     "cell_type": "code",
     "collapsed": false,
     "input": [
      "edu_data = pd.read_csv('acs_14_educational_attainment.csv')\n",
      "edu_data['Census Tract'] = edu_data['Census Tract '].apply(only_numbers)\n",
      "#edu_data\n",
      "edu_data.columns"
     ],
     "language": "python",
     "metadata": {},
     "outputs": [
      {
       "metadata": {},
       "output_type": "pyout",
       "prompt_number": 65,
       "text": [
        "Index(['Census Tract ', '18_25_population', '18_25_no_hs', '25_over_population', '25_over_less_than_9_grade', '25_over_9_12_grade_no_diploma', '25_plus_pov_rate', 'Census Tract'], dtype='object')"
       ]
      }
     ],
     "prompt_number": 65
    },
    {
     "cell_type": "code",
     "collapsed": false,
     "input": [
      "edu_white_data = pd.read_csv('acs_14_educational_attainment_white.csv')\n",
      "edu_white_data['Census Tract'] = edu_white_data['Unnamed: 0'].apply(only_numbers)\n",
      "#edu_white_data\n",
      "edu_white_data.columns"
     ],
     "language": "python",
     "metadata": {},
     "outputs": [
      {
       "metadata": {},
       "output_type": "pyout",
       "prompt_number": 66,
       "text": [
        "Index(['Unnamed: 0', 'total', 'male', 'male_less than high school diploma', 'male_high_school', 'male_some_college', 'male_bachelor_or_more', 'female', 'female_less than high school diploma', 'female_high_school', 'female_some_college', 'female_bachelor_or_more', 'Census Tract'], dtype='object')"
       ]
      }
     ],
     "prompt_number": 66
    },
    {
     "cell_type": "code",
     "collapsed": false,
     "input": [
      "edu_black_data = pd.read_csv('acs_14_educational_attainment_black.csv')\n",
      "edu_black_data['Census Tract'] = edu_black_data['census_tract'].apply(only_numbers)\n",
      "#edu_black_data\n",
      "edu_black_data.columns"
     ],
     "language": "python",
     "metadata": {},
     "outputs": [
      {
       "metadata": {},
       "output_type": "pyout",
       "prompt_number": 67,
       "text": [
        "Index(['census_tract', 'total', 'male', 'male_less than high school diploma', 'male_high_school', 'male_some_college', 'male_bachelor_or_more', 'female', 'female_less than high school diploma', 'female_high_school', 'female_some_college', 'female_bachelor_or_more', 'Census Tract'], dtype='object')"
       ]
      }
     ],
     "prompt_number": 67
    },
    {
     "cell_type": "heading",
     "level": 5,
     "metadata": {},
     "source": [
      "(8) Community_Race_Education_Economics Data: BIG MERGE"
     ]
    },
    {
     "cell_type": "code",
     "collapsed": false,
     "input": [
      "eco_income_comm = econ_income_data.merge(community_tract, left_on='Census Tract', right_on='tract_id', how = 'outer')\n",
      "eco_income_comm = eco_income_comm.dropna()\n",
      "eco_income_comm = eco_income_comm.astype(str).convert_objects(convert_numeric=True).drop(eco_income_comm.columns[[0]], axis=1)\n",
      "eco_income_comm['Median_household_income'] = eco_income_comm['Median_household_income'].replace('-', '0').str.strip(',')\n",
      "eco_income_comm\n",
      "#eco_income_comm.columns\n",
      "\n",
      "#all_comm['Median_household_income'] = pd.DataFrame({'Median_household_income':\n",
      "#            eco_income_comm.groupby(' community_id')['Median_household_income'].mean()})\n",
      "#all_comm"
     ],
     "language": "python",
     "metadata": {},
     "outputs": [
      {
       "html": [
        "<div style=\"max-height:1000px;max-width:1500px;overflow:auto;\">\n",
        "<table border=\"1\" class=\"dataframe\">\n",
        "  <thead>\n",
        "    <tr style=\"text-align: right;\">\n",
        "      <th></th>\n",
        "      <th>Median_household_income</th>\n",
        "      <th>Mean_household_income</th>\n",
        "      <th>Median_family_income</th>\n",
        "      <th>Mean_family_income</th>\n",
        "      <th>Per_capita_income</th>\n",
        "      <th>Census Tract</th>\n",
        "      <th>tract_id</th>\n",
        "      <th> community_id</th>\n",
        "    </tr>\n",
        "  </thead>\n",
        "  <tbody>\n",
        "    <tr>\n",
        "      <th>0   </th>\n",
        "      <td> 30,798</td>\n",
        "      <td>  44,918</td>\n",
        "      <td>  44,826</td>\n",
        "      <td>  58,908</td>\n",
        "      <td> 23,701</td>\n",
        "      <td> 17031010100</td>\n",
        "      <td> 17031010100</td>\n",
        "      <td>  1</td>\n",
        "    </tr>\n",
        "    <tr>\n",
        "      <th>1   </th>\n",
        "      <td> 40,532</td>\n",
        "      <td>  61,415</td>\n",
        "      <td>  43,321</td>\n",
        "      <td>  68,583</td>\n",
        "      <td> 22,845</td>\n",
        "      <td> 17031010201</td>\n",
        "      <td> 17031010201</td>\n",
        "      <td>  1</td>\n",
        "    </tr>\n",
        "    <tr>\n",
        "      <th>2   </th>\n",
        "      <td> 25,250</td>\n",
        "      <td>  43,047</td>\n",
        "      <td>  46,713</td>\n",
        "      <td>  54,897</td>\n",
        "      <td> 20,062</td>\n",
        "      <td> 17031010202</td>\n",
        "      <td> 17031010202</td>\n",
        "      <td>  1</td>\n",
        "    </tr>\n",
        "    <tr>\n",
        "      <th>3   </th>\n",
        "      <td> 42,606</td>\n",
        "      <td>  61,496</td>\n",
        "      <td>  48,351</td>\n",
        "      <td>  83,002</td>\n",
        "      <td> 29,009</td>\n",
        "      <td> 17031010300</td>\n",
        "      <td> 17031010300</td>\n",
        "      <td>  1</td>\n",
        "    </tr>\n",
        "    <tr>\n",
        "      <th>4   </th>\n",
        "      <td> 38,531</td>\n",
        "      <td>  59,091</td>\n",
        "      <td>  73,491</td>\n",
        "      <td>  96,641</td>\n",
        "      <td> 24,398</td>\n",
        "      <td> 17031010400</td>\n",
        "      <td> 17031010400</td>\n",
        "      <td>  1</td>\n",
        "    </tr>\n",
        "    <tr>\n",
        "      <th>...</th>\n",
        "      <td>...</td>\n",
        "      <td>...</td>\n",
        "      <td>...</td>\n",
        "      <td>...</td>\n",
        "      <td>...</td>\n",
        "      <td>...</td>\n",
        "      <td>...</td>\n",
        "      <td>...</td>\n",
        "    </tr>\n",
        "    <tr>\n",
        "      <th>1313</th>\n",
        "      <td> 76,488</td>\n",
        "      <td> 145,015</td>\n",
        "      <td> 113,438</td>\n",
        "      <td> 203,176</td>\n",
        "      <td> 60,670</td>\n",
        "      <td> 17031843700</td>\n",
        "      <td> 17031843700</td>\n",
        "      <td>  5</td>\n",
        "    </tr>\n",
        "    <tr>\n",
        "      <th>1314</th>\n",
        "      <td> 33,229</td>\n",
        "      <td>  41,212</td>\n",
        "      <td>  35,863</td>\n",
        "      <td>  45,112</td>\n",
        "      <td> 12,440</td>\n",
        "      <td> 17031843800</td>\n",
        "      <td> 17031843800</td>\n",
        "      <td> 61</td>\n",
        "    </tr>\n",
        "    <tr>\n",
        "      <th>1315</th>\n",
        "      <td> 27,303</td>\n",
        "      <td>  46,341</td>\n",
        "      <td>  38,494</td>\n",
        "      <td>  61,350</td>\n",
        "      <td> 24,386</td>\n",
        "      <td> 17031843900</td>\n",
        "      <td> 17031843900</td>\n",
        "      <td> 42</td>\n",
        "    </tr>\n",
        "    <tr>\n",
        "      <th>1316</th>\n",
        "      <td>      0</td>\n",
        "      <td>       -</td>\n",
        "      <td>       -</td>\n",
        "      <td>       -</td>\n",
        "      <td>      -</td>\n",
        "      <td> 17031980000</td>\n",
        "      <td> 17031980000</td>\n",
        "      <td> 76</td>\n",
        "    </tr>\n",
        "    <tr>\n",
        "      <th>1317</th>\n",
        "      <td>      0</td>\n",
        "      <td>       -</td>\n",
        "      <td>       -</td>\n",
        "      <td>       -</td>\n",
        "      <td>      -</td>\n",
        "      <td> 17031980100</td>\n",
        "      <td> 17031980100</td>\n",
        "      <td> 56</td>\n",
        "    </tr>\n",
        "  </tbody>\n",
        "</table>\n",
        "<p>801 rows \u00d7 8 columns</p>\n",
        "</div>"
       ],
       "metadata": {},
       "output_type": "pyout",
       "prompt_number": 167,
       "text": [
        "     Median_household_income Mean_household_income Median_family_income  \\\n",
        "0                     30,798                44,918               44,826   \n",
        "1                     40,532                61,415               43,321   \n",
        "2                     25,250                43,047               46,713   \n",
        "3                     42,606                61,496               48,351   \n",
        "4                     38,531                59,091               73,491   \n",
        "...                      ...                   ...                  ...   \n",
        "1313                  76,488               145,015              113,438   \n",
        "1314                  33,229                41,212               35,863   \n",
        "1315                  27,303                46,341               38,494   \n",
        "1316                       0                     -                    -   \n",
        "1317                       0                     -                    -   \n",
        "\n",
        "     Mean_family_income Per_capita_income  Census Tract     tract_id  \\\n",
        "0                58,908            23,701   17031010100  17031010100   \n",
        "1                68,583            22,845   17031010201  17031010201   \n",
        "2                54,897            20,062   17031010202  17031010202   \n",
        "3                83,002            29,009   17031010300  17031010300   \n",
        "4                96,641            24,398   17031010400  17031010400   \n",
        "...                 ...               ...           ...          ...   \n",
        "1313            203,176            60,670   17031843700  17031843700   \n",
        "1314             45,112            12,440   17031843800  17031843800   \n",
        "1315             61,350            24,386   17031843900  17031843900   \n",
        "1316                  -                 -   17031980000  17031980000   \n",
        "1317                  -                 -   17031980100  17031980100   \n",
        "\n",
        "       community_id  \n",
        "0                 1  \n",
        "1                 1  \n",
        "2                 1  \n",
        "3                 1  \n",
        "4                 1  \n",
        "...             ...  \n",
        "1313              5  \n",
        "1314             61  \n",
        "1315             42  \n",
        "1316             76  \n",
        "1317             56  \n",
        "\n",
        "[801 rows x 8 columns]"
       ]
      }
     ],
     "prompt_number": 167
    },
    {
     "cell_type": "code",
     "collapsed": false,
     "input": [
      "edu_comm = edu_data.merge(community_tract, left_on='Census Tract', right_on='tract_id', how = 'outer')\n",
      "edu_comm = edu_comm.dropna()\n",
      "edu_comm.columns"
     ],
     "language": "python",
     "metadata": {},
     "outputs": [
      {
       "metadata": {},
       "output_type": "pyout",
       "prompt_number": 86,
       "text": [
        "Index(['Census Tract ', '18_25_population', '18_25_no_hs', '25_over_population', '25_over_less_than_9_grade', '25_over_9_12_grade_no_diploma', '25_plus_pov_rate', 'Census Tract', 'tract_id', ' community_id'], dtype='object')"
       ]
      }
     ],
     "prompt_number": 86
    },
    {
     "cell_type": "code",
     "collapsed": false,
     "input": [
      "edu_white_comm = edu_white_data.merge(community_tract, left_on='Census Tract', right_on='tract_id', how = 'outer')\n",
      "edu_white_comm = edu_white_comm.dropna()\n",
      "edu_white_comm.columns"
     ],
     "language": "python",
     "metadata": {},
     "outputs": [
      {
       "metadata": {},
       "output_type": "pyout",
       "prompt_number": 88,
       "text": [
        "Index(['Unnamed: 0', 'total', 'male', 'male_less than high school diploma', 'male_high_school', 'male_some_college', 'male_bachelor_or_more', 'female', 'female_less than high school diploma', 'female_high_school', 'female_some_college', 'female_bachelor_or_more', 'Census Tract', 'tract_id', ' community_id'], dtype='object')"
       ]
      }
     ],
     "prompt_number": 88
    },
    {
     "cell_type": "code",
     "collapsed": false,
     "input": [
      "edu_black_comm = edu_black_data.merge(community_tract, left_on='Census Tract', right_on='tract_id', how = 'outer')\n",
      "edu_black_comm = edu_black_comm.dropna()\n",
      "edu_black_comm.columns"
     ],
     "language": "python",
     "metadata": {},
     "outputs": [
      {
       "metadata": {},
       "output_type": "pyout",
       "prompt_number": 90,
       "text": [
        "Index(['census_tract', 'total', 'male', 'male_less than high school diploma', 'male_high_school', 'male_some_college', 'male_bachelor_or_more', 'female', 'female_less than high school diploma', 'female_high_school', 'female_some_college', 'female_bachelor_or_more', 'Census Tract', 'tract_id', ' community_id'], dtype='object')"
       ]
      }
     ],
     "prompt_number": 90
    },
    {
     "cell_type": "heading",
     "level": 5,
     "metadata": {},
     "source": [
      "(9) Crime_Rate Data: to prepare for 'merge'"
     ]
    },
    {
     "cell_type": "heading",
     "level": 1,
     "metadata": {},
     "source": [
      "Analysis"
     ]
    }
   ],
   "metadata": {}
  }
 ]
}